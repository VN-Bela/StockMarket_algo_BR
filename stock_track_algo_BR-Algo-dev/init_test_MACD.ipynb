{
 "cells": [
  {
   "cell_type": "code",
   "execution_count": 1,
   "metadata": {},
   "outputs": [],
   "source": [
    "from warnings import filterwarnings\n",
    "filterwarnings('ignore')\n",
    "# Import necessary libraries\n",
    "import yfinance as yf  # Library to fetch stock data from Yahoo Finance\n",
    "import pandas as pd  # Library for data manipulation and analysis\n",
    "import numpy as np  # Library for numerical computing\n",
    "import plotly.graph_objs as go  # Library for interactive plotting\n",
    "import smtplib  # Library for sending email\n",
    "from email.mime.text import MIMEText  # MIMEText to create email body\n",
    "from email.mime.multipart import MIMEMultipart  # MIMEMultipart to create email message\n",
    "from datetime import datetime  # Library for datetime operations\n",
    "import time  # Library for time-related operations\n",
    "from IPython.display import clear_output, display  # Library for clearing output and displaying output\n",
    "import subprocess  # Library for subprocess management\n",
    "import re  # Library for regular expressions\n",
    "import pyautogui  # Library for GUI automation\n",
    "\n",
    "from plotly.subplots import make_subplots\n"
   ]
  },
  {
   "cell_type": "code",
   "execution_count": 2,
   "metadata": {},
   "outputs": [],
   "source": [
    "# Function to send email messages\n",
    "\n",
    "def send_email(message_text):\n",
    "    \"\"\"\n",
    "    Function to send email messages.\n",
    "\n",
    "    Parameters:\n",
    "    - message_text: Text message to be sent via email.\n",
    "\n",
    "    The function sets up email parameters, creates a MIME multipart message,\n",
    "    and sends the email using the smtplib library to the specified recipient.\n",
    "    \"\"\"\n",
    "\n",
    "    # Set up email parameters\n",
    "    sender_email = \"kaushal.cilans@gmail.com\"  # Email address of the sender\n",
    "    receiver_email = \"kaushaljadav111@gmail.com\"  # Email address of the receiver\n",
    "    password = \"fndkdayybiqfotsy\"  # Password of the sender's email account\n",
    "\n",
    "    subject = \"EMA Crossover Alert\"  # Subject of the email\n",
    "    body = message_text  # Body of the email, contains the message text\n",
    "\n",
    "    # Create message\n",
    "    message = MIMEMultipart()  # Create a MIME multipart message\n",
    "    message[\"From\"] = sender_email  # Set the 'From' field of the email\n",
    "    message[\"To\"] = receiver_email  # Set the 'To' field of the email\n",
    "    message[\"Subject\"] = subject  # Set the subject of the email\n",
    "    message.attach(MIMEText(body, \"plain\"))  # Attach the body of the email as plain text\n",
    "\n",
    "    # Print Statement Before Sending Email\n",
    "    print(\"Sending Email...\")  # Print statement to indicate email sending process is initiated\n",
    "\n",
    "    # Establish a connection with the SMTP server\n",
    "    try:\n",
    "        with smtplib.SMTP(\"smtp.gmail.com\", 587) as server:  # Connect to Gmail SMTP server\n",
    "            server.starttls()  # Start TLS encryption\n",
    "            server.login(sender_email, password)  # Login to the email account\n",
    "            server.sendmail(sender_email, receiver_email, message.as_string())  # Send the email message\n",
    "        print(\"Email Sent Successfully!\")  # Print statement if email is sent successfully\n",
    "    except Exception as e:\n",
    "        print(\"Error Sending Email:\", str(e))  # Print statement if an error occurs while sending the email\n"
   ]
  },
  {
   "cell_type": "code",
   "execution_count": 3,
   "metadata": {},
   "outputs": [],
   "source": [
    "# Function to send WhatsApp messages to numbers listed in a CSV file\n",
    "\n",
    "def send_whatsapp_messages(numbers_filename, message_text):\n",
    "    \"\"\"\n",
    "    Function to send WhatsApp messages to numbers listed in a CSV file.\n",
    "\n",
    "    Parameters:\n",
    "    - numbers_filename: Path to the CSV file containing contact numbers.\n",
    "    - message_text: Text message to be sent via WhatsApp.\n",
    "\n",
    "    The function reads the contact numbers from the provided CSV file, validates each number,\n",
    "    and sends the specified message via WhatsApp using subprocess and pyautogui libraries.\n",
    "    \"\"\"\n",
    "\n",
    "    # Display the selected contact file path\n",
    "    print(\"\\n========================= Selected Contact File Path ===========================\\n\")\n",
    "    print(numbers_filename)\n",
    "\n",
    "    # Read the CSV file containing contact numbers into a DataFrame\n",
    "    df1 = pd.read_csv(numbers_filename)\n",
    "    print(df1)\n",
    "\n",
    "    # Process the input text message\n",
    "    input_txt = message_text\n",
    "\n",
    "    # List to store rejected numbers\n",
    "    rejected_number = []\n",
    "\n",
    "    # Iterate through each row in the DataFrame\n",
    "    for _, i in df1.iterrows():\n",
    "        print(i['Number'])\n",
    "        print(i['Name'])\n",
    "\n",
    "        # Check if the number matches the valid pattern\n",
    "        r = re.fullmatch('[6-9][0-9]{9}', str(i['Number']))\n",
    "        if r is not None:\n",
    "            print('Valid Number')\n",
    "\n",
    "            raw_text = \"Hello there, *{name}* !\".format(name=i['Name'])\n",
    "            text = raw_text.replace(\" \", \"%20\")\n",
    "            input_txt = input_txt.replace(' ', '%20')\n",
    "            input_txt = input_txt.replace('\\n', '%0A')\n",
    "            input_txt = input_txt.replace(':)', '\\U0001F601')\n",
    "\n",
    "            print(input_txt)\n",
    "\n",
    "            try:\n",
    "                print('Opening WhatsApp...')\n",
    "                subprocess.Popen([\"cmd\", \"/C\", \"start whatsapp://\"], shell=True)\n",
    "                time.sleep(2)\n",
    "                subprocess.Popen([\"cmd\", \"/C\", \"start whatsapp://send?phone=\" + str(i['Number'])], shell=True)\n",
    "                time.sleep(2)\n",
    "                subprocess.Popen([\"cmd\", \"/C\", \"start whatsapp://send?phone=\" + str(i['Number']) + \"^&text=\" + input_txt], shell=True)\n",
    "                time.sleep(2)\n",
    "                print('WhatsApp Opened')\n",
    "                pyautogui.click(1000,1000)\n",
    "                pyautogui.press('enter')  # Press Enter key to send message\n",
    "                print('Message Sent')\n",
    "\n",
    "            except Exception as e:\n",
    "                print(e)\n",
    "\n",
    "        else:\n",
    "            print('Not a valid number')\n",
    "            rejected_number.append(str(i['Number']))\n",
    "\n",
    "    # Print the list of rejected numbers\n",
    "    print(rejected_number)\n",
    "\n",
    "    # Create a DataFrame for rejected numbers and store them in a CSV file\n",
    "    rejected_num = pd.DataFrame()\n",
    "    for i in rejected_number:\n",
    "        print(i)\n",
    "        rejected = df1.loc[df1['Number'] == i]\n",
    "        rejected_num = pd.concat([rejected_num, rejected])\n",
    "        print(rejected_num)\n",
    "\n",
    "    rejected_num.to_csv('rejected_numbers.csv')\n"
   ]
  },
  {
   "cell_type": "code",
   "execution_count": 4,
   "metadata": {},
   "outputs": [],
   "source": [
    "# Initialize figure\n",
    "fig = go.Figure()"
   ]
  },
  {
   "cell_type": "code",
   "execution_count": 5,
   "metadata": {},
   "outputs": [],
   "source": [
    "# def MACD_plot(data, fig):\n",
    "    \n",
    "#     \"\"\"\n",
    "#     Function to plot MACD and Signal Line and send WhatsApp alerts based on crossovers.\n",
    "\n",
    "#     Parameters:\n",
    "#     - data: DataFrame containing financial market data with 'Datetime' and 'Close' columns.\n",
    "#     - fig: Plotly figure to update and display.\n",
    "\n",
    "#     The function calculates the 12 and 26-period Exponential Moving Averages (EMA), MACD, and Signal Line.\n",
    "#     It then checks for MACD crossovers and sends WhatsApp alerts using the send_whatsapp_messages function.\n",
    "#     Finally, it updates the plot with MACD and Signal Line and displays the figure.\n",
    "\n",
    "#     Note: This function relies on the send_whatsapp_messages and send_email functions for alert notifications.\n",
    "#     \"\"\"\n",
    "\n",
    "#     # Define short and long windows for EMA calculation\n",
    "#     short_window = 13\n",
    "#     large_window = 34\n",
    "\n",
    "#     # Calculate the 12-period Exponential Moving Average (EMA)\n",
    "#     data['EMA_short_5m'] = data['5m_Close'].ewm(span=short_window, adjust=False).mean()\n",
    "\n",
    "#     # Calculate the 26-period Exponential Moving Average (EMA)\n",
    "#     data['EMA_large_5m'] = data['5m_Close'].ewm(span=large_window, adjust=False).mean()\n",
    "\n",
    "#     # Calculate the Moving Average Convergence Divergence (MACD) line\n",
    "#     data['MACD_5m'] = data['EMA_short_5m'] - data['EMA_large_5m']\n",
    "\n",
    "#     # Calculate the 9-period EMA of MACD (Signal Line)\n",
    "#     data['Signal_Line_5m'] = data['MACD_5m'].ewm(span=9, adjust=False).mean()\n",
    "    \n",
    "#     data['msg_signal_5m'] = np.where(data['MACD_5m'] > data['Signal_Line_5m'].shift(1), 1, 0)\n",
    "\n",
    "\n",
    "\n",
    "#     # Calculate the 12-period Exponential Moving Average (EMA)\n",
    "#     data['EMA_short_15m'] = data['15m_Close'].ewm(span=short_window, adjust=False).mean()\n",
    "\n",
    "#     # Calculate the 26-period Exponential Moving Average (EMA)\n",
    "#     data['EMA_large_15m'] = data['15m_Close'].ewm(span=large_window, adjust=False).mean()\n",
    "\n",
    "#     # Calculate the Moving Average Convergence Divergence (MACD) line\n",
    "#     data['MACD_15m'] = data['EMA_short_15m'] - data['EMA_large_15m']\n",
    "\n",
    "#     # Calculate the 9-period EMA of MACD (Signal Line)\n",
    "#     data['Signal_Line_15m'] = data['MACD_15m'].ewm(span=9, adjust=False).mean()\n",
    "\n",
    "#     data['msg_signal_15m'] = np.where(data['MACD_15m'] > data['Signal_Line_15m'].shift(1), 1, 0)\n",
    "\n",
    "\n",
    "\n",
    "\n",
    "#         # Calculate the 12-period Exponential Moving Average (EMA)\n",
    "#     data['EMA_short_60m'] = data['60m_Close'].ewm(span=short_window, adjust=False).mean()\n",
    "\n",
    "#     # Calculate the 26-period Exponential Moving Average (EMA)\n",
    "#     data['EMA_large_60m'] = data['60m_Close'].ewm(span=large_window, adjust=False).mean()\n",
    "\n",
    "#     # Calculate the Moving Average Convergence Divergence (MACD) line\n",
    "#     data['MACD_60m'] = data['EMA_short_60m'] - data['EMA_large_60m']\n",
    "\n",
    "#     # Calculate the 9-period EMA of MACD (Signal Line)\n",
    "#     data['Signal_Line_60m'] = data['MACD_60m'].ewm(span=9, adjust=False).mean()\n",
    "\n",
    "#     data['msg_signal_60m'] = np.where(data['MACD_60m'] > data['Signal_Line_60m'].shift(1), 1, 0)\n",
    "\n",
    "\n",
    "\n",
    "    \n",
    "#     # Check for MACD and Signal Line crossovers in the last two rows in 5m timme interval than 15min and than after 60m time interval and in the basis of the combination in icreasing order send the customize message to the user\n",
    "#     if ((data['msg_signal_5m'].iloc[-1] == 1) & (data['msg_signal_5m'].iloc[-2] == 0)).all():\n",
    "#         message = \"MACD Crossover Alert: Cross Above Signal Line in 5m time interval\"\n",
    "#         send_whatsapp_messages(\"leads.csv\", message)  # Adjust the filename accordingly\n",
    "#         send_email(message_text=message)  # Send a detailed email\n",
    "    \n",
    "#     elif ((data['msg_signal_5m'].iloc[-1] == 0) & (data['msg_signal_5m'].iloc[-2] == 1)).all():\n",
    "#         message = \"MACD Crossover Alert: Cross Below Signal Line in 5m time interval\"\n",
    "#         send_whatsapp_messages(\"leads.csv\", message)  # Adjust the filename accordingly\n",
    "#         send_email(message_text=message)  # Send a detailed email\n",
    "        \n",
    "#     else:\n",
    "#         print(\"No significant crossover detected!\")\n",
    "\n",
    "      \n",
    "\n",
    "#     if ((data['msg_signal_15m'].iloc[-1] == 0) & (data['msg_signal_15m'].iloc[-2] == 1) & (data['msg_signal_5m'].iloc[-1] == 0)).all():\n",
    "#         message = \"MACD Crossover Alert: The Cross over to below signal line in 15 minutes time inetrval and is continued from 5 minutes time frame as well\"\n",
    "#         send_whatsapp_messages(\"leads.csv\", message)\n",
    "#         send_email(message_text=message)\n",
    "\n",
    "#     elif ((data['msg_signal_15m'].iloc[-1] == 0) & (data['msg_signal_15m'].iloc[-2] == 1)).all():\n",
    "#         message = \"MACD Crossover Alert: Cross Below Signal Line in 15m time interval\"\n",
    "#         send_whatsapp_messages(\"leads.csv\", message)\n",
    "#         send_email(message_text=message)\n",
    "\n",
    "\n",
    "#     elif ((data['msg_signal_15m'].iloc[-1] == 1) & (data['msg_signal_15m'].iloc[-2] == 0) & (data['msg_signal_5m'].iloc[-1] == 1)).all():\n",
    "#         message = \"MACD Crossover Alert: The Cross over to above signal line in 15 minutes time inetrval and is continued from 5 minutes time frame as well\"\n",
    "#         send_whatsapp_messages(\"leads.csv\", message)\n",
    "#         send_email(message_text=message)\n",
    "\n",
    "#     elif ((data['msg_signal_15m'].iloc[-1] == 1) & (data['msg_signal_15m'].iloc[-2] == 0)).all():\n",
    "#         message = \"MACD Crossover Alert: Cross Above Signal Line in 15m time interval\"\n",
    "#         send_whatsapp_messages(\"leads.csv\", message)\n",
    "#         send_email(message_text=message)\n",
    "\n",
    "#     else:\n",
    "#         print(\"No significant crossover detected!\")\n",
    "        \n",
    "#     if ((data['msg_signal_60m'].iloc[-1] == 0) & (data['msg_signal_60m'].iloc[-2] == 1) & (data['msg_signal_15m'].iloc[-1] == 0)).all():\n",
    "#         message = \"MACD Crossover Alert: The Cross over to below signal line in 60m time interval and is continued from 15 minutes time frame as well\"\n",
    "#         send_whatsapp_messages(\"leads.csv\", message)\n",
    "#         send_email(message_text=message)\n",
    "\n",
    "#     elif ((data['msg_signal_60m'].iloc[-1] == 0) & (data['msg_signal_60m'].iloc[-2] == 1)).all():\n",
    "#         message = \"MACD Crossover Alert: Cross Below Signal Line in 60m time interval\"\n",
    "#         send_whatsapp_messages(\"leads.csv\", message)\n",
    "#         send_email(message_text=message)\n",
    "\n",
    "\n",
    "#     elif ((data['msg_signal_60m'].iloc[-1] == 1) & (data['msg_signal_60m'].iloc[-2] == 0) & (data['msg_signal_15m'].iloc[-1] == 1)).all():\n",
    "#         message = \"MACD Crossover Alert: The Cross over to above signal line in 60m time interval and is continued from 15 minutes time frame as well\"\n",
    "#         send_whatsapp_messages(\"leads.csv\", message)\n",
    "#         send_email(message_text=message)\n",
    "\n",
    "#     elif ((data['msg_signal_60m'].iloc[-1] == 1) & (data['msg_signal_60m'].iloc[-2] == 0)).all():\n",
    "#         message = \"MACD Crossover Alert: Cross Above Signal Line in 60m time interval\"\n",
    "#         send_whatsapp_messages(\"leads.csv\", message)\n",
    "#         send_email(message_text=message)\n",
    "\n",
    "#     else:\n",
    "#         print(\"No significant crossover detected!\")\n",
    "\n",
    "#     # Update traces for MACD and Signal Line\n",
    "#     trace_macd_5m = go.Scatter(x=data['Datetime'].tail(50), y=data['MACD_5m'].tail(50), mode='lines', name='MACD (5m)')\n",
    "#     trace_signal_line_5m = go.Scatter(x=data['Datetime'].tail(50), y=data['Signal_Line_5m'].tail(50), mode='lines', name='Signal Line (5m)')\n",
    "\n",
    "#     trace_macd_15m = go.Scatter(x=data['Datetime'].tail(50), y=data['MACD_15m'].tail(50), mode='lines', name='MACD (15m)')\n",
    "#     trace_signal_line_15m = go.Scatter(x=data['Datetime'].tail(50), y=data['Signal_Line_15m'].tail(50), mode='lines', name='Signal Line (15m)')\n",
    "\n",
    "#     trace_macd_60m = go.Scatter(x=data['Datetime'].tail(50), y=data['MACD_60m'].tail(50), mode='lines', name='MACD (60m)')\n",
    "#     trace_signal_line_60m = go.Scatter(x=data['Datetime'].tail(50), y=data['Signal_Line_60m'].tail(25), mode='lines', name='Signal Line (60m)')\n",
    "\n",
    "#     # Update layout\n",
    "#     layout = go.Layout(title='MACD', yaxis=dict(title='Value'),width=1200, height=1000)\n",
    "\n",
    "#     # Create subplots\n",
    "#     fig = make_subplots(rows=3, cols=1, shared_xaxes=True, vertical_spacing=0.1)\n",
    "\n",
    "#     # Add traces to subplots\n",
    "#     fig.add_trace(trace_macd_5m, row=1, col=1)\n",
    "#     fig.add_trace(trace_signal_line_5m, row=1, col=1)\n",
    "\n",
    "#     fig.add_trace(trace_macd_15m, row=2, col=1)\n",
    "#     fig.add_trace(trace_signal_line_15m, row=2, col=1)\n",
    "\n",
    "#     fig.add_trace(trace_macd_60m, row=3, col=1)\n",
    "#     fig.add_trace(trace_signal_line_60m, row=3, col=1)\n",
    "\n",
    "#     # Add headers\n",
    "#     fig.add_annotation(text=\"5min\", xref=\"paper\", yref=\"paper\", x=0.0, y=1.03, showarrow=False, font=dict(size=14))\n",
    "#     fig.add_annotation(text=\"15min\", xref=\"paper\", yref=\"paper\", x=0.0, y=0.65, showarrow=False, font=dict(size=14))\n",
    "#     fig.add_annotation(text=\"60min\", xref=\"paper\", yref=\"paper\", x=0.0, y=0.27, showarrow=False, font=dict(size=14))\n",
    "\n",
    "#     # Update layout\n",
    "#     fig.update_layout(layout)\n",
    "\n",
    "#     # Display the figure\n",
    "#     clear_output(wait=True)\n",
    "#     display(fig)\n",
    "\n",
    "#     # Print the last two rows of data\n",
    "#     # print(data.iloc[-5:])\n",
    "\n",
    "#     return data, fig\n",
    "\n",
    "\n",
    "\n",
    "\n",
    "def MACD_plot(data, fig, short_window, large_window):\n",
    "    \n",
    "    \"\"\"\n",
    "    Function to plot MACD and Signal Line and send WhatsApp alerts based on crossovers.\n",
    "\n",
    "    Parameters:\n",
    "    - data: DataFrame containing financial market data with 'Datetime' and 'Close' columns.\n",
    "    - fig: Plotly figure to update and display.\n",
    "\n",
    "    The function calculates the 12 and 26-period Exponential Moving Averages (EMA), MACD, and Signal Line.\n",
    "    It then checks for MACD crossovers and sends WhatsApp alerts using the send_whatsapp_messages function.\n",
    "    Finally, it updates the plot with MACD and Signal Line and displays the figure.\n",
    "\n",
    "    Note: This function relies on the send_whatsapp_messages and send_email functions for alert notifications.\n",
    "    \"\"\"\n",
    "\n",
    "    # Define short and long windows for EMA calculation\n",
    "    short_window = short_window\n",
    "    large_window = large_window\n",
    "\n",
    "    # Calculate the 12-period Exponential Moving Average (EMA)\n",
    "    data['EMA_short_5m'] = data['5m_Close'].ewm(span=short_window, adjust=False).mean()\n",
    "\n",
    "    # Calculate the 26-period Exponential Moving Average (EMA)\n",
    "    data['EMA_large_5m'] = data['5m_Close'].ewm(span=large_window, adjust=False).mean()\n",
    "\n",
    "    # Calculate the Moving Average Convergence Divergence (MACD) line\n",
    "    data['MACD_5m'] = data['EMA_short_5m'] - data['EMA_large_5m']\n",
    "\n",
    "    # Calculate the 9-period EMA of MACD (Signal Line)\n",
    "    data['Signal_Line_5m'] = data['MACD_5m'].ewm(span=9, adjust=False).mean()\n",
    "    \n",
    "    data['msg_signal_5m'] = np.where(data['MACD_5m'] > data['Signal_Line_5m'].shift(1), 1, 0)\n",
    "\n",
    "\n",
    "\n",
    "    # Calculate the 12-period Exponential Moving Average (EMA)\n",
    "    data['EMA_short_15m'] = data['15m_Close'].ewm(span=short_window, adjust=False).mean()\n",
    "\n",
    "    # Calculate the 26-period Exponential Moving Average (EMA)\n",
    "    data['EMA_large_15m'] = data['15m_Close'].ewm(span=large_window, adjust=False).mean()\n",
    "\n",
    "    # Calculate the Moving Average Convergence Divergence (MACD) line\n",
    "    data['MACD_15m'] = data['EMA_short_15m'] - data['EMA_large_15m']\n",
    "\n",
    "    # Calculate the 9-period EMA of MACD (Signal Line)\n",
    "    data['Signal_Line_15m'] = data['MACD_15m'].ewm(span=9, adjust=False).mean()\n",
    "\n",
    "    data['msg_signal_15m'] = np.where(data['MACD_15m'] > data['Signal_Line_15m'].shift(1), 1, 0)\n",
    "\n",
    "\n",
    "\n",
    "\n",
    "        # Calculate the 12-period Exponential Moving Average (EMA)\n",
    "    data['EMA_short_60m'] = data['60m_Close'].ewm(span=short_window, adjust=False).mean()\n",
    "\n",
    "    # Calculate the 26-period Exponential Moving Average (EMA)\n",
    "    data['EMA_large_60m'] = data['60m_Close'].ewm(span=large_window, adjust=False).mean()\n",
    "\n",
    "    # Calculate the Moving Average Convergence Divergence (MACD) line\n",
    "    data['MACD_60m'] = data['EMA_short_60m'] - data['EMA_large_60m']\n",
    "\n",
    "    # Calculate the 9-period EMA of MACD (Signal Line)\n",
    "    data['Signal_Line_60m'] = data['MACD_60m'].ewm(span=9, adjust=False).mean()\n",
    "\n",
    "    data['msg_signal_60m'] = np.where(data['MACD_60m'] > data['Signal_Line_60m'].shift(1), 1, 0)\n",
    "\n",
    "\n",
    "\n",
    "\n",
    "\n",
    "    # Calculate the 12-period Exponential Moving Average (EMA)\n",
    "    data['EMA_short_1d'] = data['1d_Close'].ewm(span=short_window, adjust=False).mean()\n",
    "\n",
    "    # Calculate the 26-period Exponential Moving Average (EMA)\n",
    "    data['EMA_large_1d'] = data['1d_Close'].ewm(span=large_window, adjust=False).mean()\n",
    "\n",
    "    # Calculate the Moving Average Convergence Divergence (MACD) line\n",
    "    data['MACD_1d'] = data['EMA_short_1d'] - data['EMA_large_1d']\n",
    "\n",
    "    # Calculate the 9-period EMA of MACD (Signal Line)\n",
    "    data['Signal_Line_1d'] = data['MACD_1d'].ewm(span=9, adjust=False).mean()\n",
    "\n",
    "    data['msg_signal_1d'] = np.where(data['MACD_1d'] > data['Signal_Line_1d'].shift(1), 1, 0)\n",
    "\n",
    "\n",
    "\n",
    "\n",
    "\n",
    "    if ((data['msg_signal_1d'].iloc[-1] == 0) & (data['msg_signal_1d'].iloc[-2] == 1) & (data['msg_signal_60m'].iloc[-1] == 0) & (data['msg_signal_15m'].iloc[-1] == 0)).all():\n",
    "        message = f\"MACD Crossover Alert: The Cross over to below signal line in 1 day time interval and is continued from 60 minutes and 15 minutes time frame as well\"\n",
    "        # send_whatsapp_messages(\"leads.csv\", message)\n",
    "        # send_email(message_text=message)\n",
    "\n",
    "    elif ((data['msg_signal_1d'].iloc[-1] == 0) & (data['msg_signal_1d'].iloc[-2] == 1) & (data['msg_signal_60m'].iloc[-1] == 0)).all():\n",
    "        message = f\"MACD Crossover Alert: Cross Below Signal Line in 1 day time interval and is continued from 60 minutes time frame as well\"\n",
    "        # send_whatsapp_messages(\"leads.csv\", message)\n",
    "        # send_email(message_text=message)\n",
    "\n",
    "    elif ((data['msg_signal_1d'].iloc[-1] == 0) & (data['msg_signal_1d'].iloc[-2] == 1)).all():\n",
    "        message = f\"MACD Crossover Alert: Cross Below Signal Line in 1 day time interval\"\n",
    "        # send_whatsapp_messages(\"leads.csv\", message)\n",
    "        # send_email(message_text=message)\n",
    "\n",
    "\n",
    "    elif ((data['msg_signal_1d'].iloc[-1] == 1) & (data['msg_signal_1d'].iloc[-2] == 0) & (data['msg_signal_60m'].iloc[-1] == 1) & (data['msg_signal_15m'].iloc[-1] == 1)).all():\n",
    "        message = f\"MACD Crossover Alert: The Cross over to above signal line in 1 day time interval and is continued from 60 minutes and 15 minutes time frame as well\"\n",
    "        # send_whatsapp_messages(\"leads.csv\", message)\n",
    "        # send_email(message_text=message)\n",
    "\n",
    "    elif ((data['msg_signal_1d'].iloc[-1] == 1) & (data['msg_signal_1d'].iloc[-2] == 0) & (data['msg_signal_60m'].iloc[-1] == 1)).all():\n",
    "        message = f\"MACD Crossover Alert: The Cross over to above signal line in 1 day time interval and is continued from 60 minutes time frame as well\"\n",
    "        # send_whatsapp_messages(\"leads.csv\", message)\n",
    "        # send_email(message_text=message)\n",
    "\n",
    "    elif ((data['msg_signal_1d'].iloc[-1] == 1) & (data['msg_signal_1d'].iloc[-2] == 0)).all():\n",
    "        message = f\"MACD Crossover Alert: Cross Above Signal Line in 1 day time interval\"\n",
    "        # send_whatsapp_messages(\"leads.csv\", message)\n",
    "        # send_email(message_text=message)\n",
    "\n",
    "    else:\n",
    "        print(\"No significant crossover detected in 1 day time interval!\")\n",
    "\n",
    "\n",
    "        \n",
    "    if ((data['msg_signal_60m'].iloc[-1] == 0) & (data['msg_signal_60m'].iloc[-2] == 1) & (data['msg_signal_15m'].iloc[-1] == 0)).all():\n",
    "        message = \"MACD Crossover Alert: The Cross over to below signal line in 60m time interval and is continued from 15 minutes time frame as well\"\n",
    "        send_whatsapp_messages(\"leads.csv\", message)\n",
    "        send_email(message_text=message)\n",
    "\n",
    "    elif ((data['msg_signal_60m'].iloc[-1] == 0) & (data['msg_signal_60m'].iloc[-2] == 1)).all():\n",
    "        message = \"MACD Crossover Alert: Cross Below Signal Line in 60m time interval\"\n",
    "        send_whatsapp_messages(\"leads.csv\", message)\n",
    "        send_email(message_text=message)\n",
    "\n",
    "\n",
    "    elif ((data['msg_signal_60m'].iloc[-1] == 1) & (data['msg_signal_60m'].iloc[-2] == 0) & (data['msg_signal_15m'].iloc[-1] == 1)).all():\n",
    "        message = \"MACD Crossover Alert: The Cross over to above signal line in 60m time interval and is continued from 15 minutes time frame as well\"\n",
    "        send_whatsapp_messages(\"leads.csv\", message)\n",
    "        send_email(message_text=message)\n",
    "\n",
    "    elif ((data['msg_signal_60m'].iloc[-1] == 1) & (data['msg_signal_60m'].iloc[-2] == 0)).all():\n",
    "        message = \"MACD Crossover Alert: Cross Above Signal Line in 60m time interval\"\n",
    "        send_whatsapp_messages(\"leads.csv\", message)\n",
    "        send_email(message_text=message)\n",
    "\n",
    "    else:\n",
    "        print(\"No significant crossover detected in 60m time interval!\")\n",
    "\n",
    "\n",
    "\n",
    "    if ((data['msg_signal_15m'].iloc[-1] == 0) & (data['msg_signal_15m'].iloc[-2] == 1) & (data['msg_signal_5m'].iloc[-1] == 0)).all():\n",
    "        message = \"MACD Crossover Alert: The Cross over to below signal line in 15 minutes time inetrval and is continued from 5 minutes time frame as well\"\n",
    "        send_whatsapp_messages(\"leads.csv\", message)\n",
    "        send_email(message_text=message)\n",
    "\n",
    "    elif ((data['msg_signal_15m'].iloc[-1] == 0) & (data['msg_signal_15m'].iloc[-2] == 1)).all():\n",
    "        message = \"MACD Crossover Alert: Cross Below Signal Line in 15m time interval\"\n",
    "        send_whatsapp_messages(\"leads.csv\", message)\n",
    "        send_email(message_text=message)\n",
    "\n",
    "\n",
    "    elif ((data['msg_signal_15m'].iloc[-1] == 1) & (data['msg_signal_15m'].iloc[-2] == 0) & (data['msg_signal_5m'].iloc[-1] == 1)).all():\n",
    "        message = \"MACD Crossover Alert: The Cross over to above signal line in 15 minutes time inetrval and is continued from 5 minutes time frame as well\"\n",
    "        send_whatsapp_messages(\"leads.csv\", message)\n",
    "        send_email(message_text=message)\n",
    "\n",
    "    elif ((data['msg_signal_15m'].iloc[-1] == 1) & (data['msg_signal_15m'].iloc[-2] == 0)).all():\n",
    "        message = \"MACD Crossover Alert: Cross Above Signal Line in 15m time interval\"\n",
    "        send_whatsapp_messages(\"leads.csv\", message)\n",
    "        send_email(message_text=message)\n",
    "\n",
    "    else:\n",
    "        print(\"No significant crossover detected in 15m time interval!\")\n",
    "\n",
    "\n",
    "    \n",
    "    # Check for MACD and Signal Line crossovers in the last two rows in 5m timme interval than 15min and than after 60m time interval and in the basis of the combination in icreasing order send the customize message to the user\n",
    "    if ((data['msg_signal_5m'].iloc[-1] == 1) & (data['msg_signal_5m'].iloc[-2] == 0)).all():\n",
    "        message = \"MACD Crossover Alert: Cross Above Signal Line in 5m time interval\"\n",
    "        send_whatsapp_messages(\"leads.csv\", message)  # Adjust the filename accordingly\n",
    "        send_email(message_text=message)  # Send a detailed email\n",
    "    \n",
    "    elif ((data['msg_signal_5m'].iloc[-1] == 0) & (data['msg_signal_5m'].iloc[-2] == 1)).all():\n",
    "        message = \"MACD Crossover Alert: Cross Below Signal Line in 5m time interval\"\n",
    "        send_whatsapp_messages(\"leads.csv\", message)  # Adjust the filename accordingly\n",
    "        send_email(message_text=message)  # Send a detailed email\n",
    "        \n",
    "    else:\n",
    "        print(\"No significant crossover detected in 5m time interval!\")\n",
    "\n",
    "      \n",
    "\n",
    "    # Update traces for MACD and Signal Line\n",
    "    trace_macd_5m = go.Scatter(x=data['Datetime'].tail(25), y=data['MACD_5m'].tail(25), mode='lines', name='MACD (5m)')\n",
    "    trace_signal_line_5m = go.Scatter(x=data['Datetime'].tail(25), y=data['Signal_Line_5m'].tail(25), mode='lines', name='Signal Line (5m)')\n",
    "\n",
    "    trace_macd_15m = go.Scatter(x=data['Datetime'].tail(25), y=data['MACD_15m'].tail(25), mode='lines', name='MACD (15m)')\n",
    "    trace_signal_line_15m = go.Scatter(x=data['Datetime'].tail(25), y=data['Signal_Line_15m'].tail(25), mode='lines', name='Signal Line (15m)')\n",
    "\n",
    "    trace_macd_60m = go.Scatter(x=data['Datetime'].tail(25), y=data['MACD_60m'].tail(25), mode='lines', name='MACD (60m)')\n",
    "    trace_signal_line_60m = go.Scatter(x=data['Datetime'].tail(25), y=data['Signal_Line_60m'].tail(25), mode='lines', name='Signal Line (60m)')\n",
    "\n",
    "    trace_macd_1d = go.Scatter(x=data['Datetime'].tail(25), y=data['MACD_1d'].tail(25), mode='lines', name='MACD (1d)')\n",
    "    trace_signal_line_1d = go.Scatter(x=data['Datetime'].tail(25), y=data['Signal_Line_1d'].tail(25), mode='lines', name='Signal Line (1d)')\n",
    "\n",
    "\n",
    "    # Update layout\n",
    "    layout = go.Layout(title='MACD', yaxis=dict(title='Value'),width=1200, height=1333)\n",
    "\n",
    "    # Create subplots\n",
    "    fig = make_subplots(rows=4, cols=1, shared_xaxes=True, vertical_spacing=0.1)\n",
    "\n",
    "    # Add traces to subplots\n",
    "    fig.add_trace(trace_macd_5m, row=1, col=1)\n",
    "    fig.add_trace(trace_signal_line_5m, row=1, col=1)\n",
    "\n",
    "    fig.add_trace(trace_macd_15m, row=2, col=1)\n",
    "    fig.add_trace(trace_signal_line_15m, row=2, col=1)\n",
    "\n",
    "    fig.add_trace(trace_macd_60m, row=3, col=1)\n",
    "    fig.add_trace(trace_signal_line_60m, row=3, col=1)\n",
    "\n",
    "    fig.add_trace(trace_macd_1d, row=4, col=1)\n",
    "    fig.add_trace(trace_signal_line_1d, row=4, col=1)\n",
    "\n",
    "    # Add headers\n",
    "    fig.add_annotation(text=\"5min\", xref=\"paper\", yref=\"paper\", x=0.0, y=1.03, showarrow=False, font=dict(size=14))\n",
    "    fig.add_annotation(text=\"15min\", xref=\"paper\", yref=\"paper\", x=0.0, y=0.65, showarrow=False, font=dict(size=14))\n",
    "    fig.add_annotation(text=\"60min\", xref=\"paper\", yref=\"paper\", x=0.0, y=0.27, showarrow=False, font=dict(size=14))\n",
    "    fig.add_annotation(text=\"1day\", xref=\"paper\", yref=\"paper\", x=0.0, y=0.0, showarrow=False, font=dict(size=14))\n",
    "\n",
    "    # Update layout\n",
    "    fig.update_layout(layout)\n",
    "\n",
    "    # Display the figure\n",
    "    clear_output(wait=True)\n",
    "    display(fig)\n",
    "\n",
    "    # Print the last two rows of data\n",
    "    # print(data.iloc[-5:])\n",
    "\n",
    "    return data, fig\n"
   ]
  },
  {
   "cell_type": "code",
   "execution_count": 6,
   "metadata": {},
   "outputs": [],
   "source": [
    "# def initial_fetch_data(symbol, date):\n",
    "\n",
    "#     if symbol == \"^NSEI\" or symbol == \"^NSEBANK\":\n",
    "#         symbol = symbol.upper()\n",
    "#     else:\n",
    "#         symbol = f\"{symbol}.NS\".upper()\n",
    "\n",
    "#     date = datetime.strptime(date, '%Y-%m-%d')\n",
    "\n",
    "#     # Download 5-minute data\n",
    "#     min5 = yf.download(symbol, start=date, interval='5m')\n",
    "#     min5.index = min5.index.strftime('%Y-%m-%d %H:%M:%S') \n",
    "#     min5.index = pd.to_datetime(min5.index)\n",
    "#     min5['Date'] = min5.index.date\n",
    "#     for i in range(len(min5.columns)):\n",
    "#         min5.columns.values[i] = \"5m_\" + min5.columns.values[i]\n",
    "#     min5.rename(columns={'5m_Date':'Date'}, inplace=True)\n",
    "#     min5 = min5.reindex(columns=['Date','5m_Open', '5m_High', '5m_Low', '5m_Close', '5m_Adj Close', '5m_Volume'])\n",
    "\n",
    "#     # Download 15-minute data\n",
    "#     min15 = yf.download(symbol, start=date, interval='15m')\n",
    "#     min15.index = min15.index.strftime('%Y-%m-%d %H:%M:%S')\n",
    "#     min15.index = pd.to_datetime(min15.index)\n",
    "#     min15['Date'] = min15.index.date\n",
    "#     for i in range(len(min15.columns)):\n",
    "#         min15.columns.values[i] = \"15m_\" + min15.columns.values[i]\n",
    "#     min15.rename(columns={'15m_Date':'Date'}, inplace=True)\n",
    "#     min15 = min15.reindex(columns=['Date','15m_Open', '15m_High', '15m_Low', '15m_Close', '15m_Adj Close', '15m_Volume'])\n",
    "#     min15 = min15.resample('5min').ffill()\n",
    "\n",
    "#     # Download 60-minute data\n",
    "#     min60 = yf.download(symbol, start=date, interval='60m')\n",
    "#     min60.index = min60.index.strftime('%Y-%m-%d %H:%M:%S')\n",
    "#     min60.index = pd.to_datetime(min60.index)\n",
    "#     min60['Date'] = min60.index.date\n",
    "#     for i in range(len(min60.columns)):\n",
    "#         min60.columns.values[i] = \"60m_\" + min60.columns.values[i]\n",
    "#     min60.rename(columns={'60m_Date':'Date'}, inplace=True)\n",
    "#     min60 = min60.reindex(columns=['Date','60m_Open', '60m_High', '60m_Low', '60m_Close', '60m_Adj Close', '60m_Volume'])\n",
    "#     min60 = min60.resample('5min').ffill()\n",
    "\n",
    "#     # Download 1-day data\n",
    "#     day1 = yf.download(symbol, start=date, interval='1d')\n",
    "#     day1.index = day1.index.strftime('%Y-%m-%d')\n",
    "#     day1.index = pd.to_datetime(day1.index)\n",
    "#     day1['Date'] = day1.index.date\n",
    "#     for i in range(len(day1.columns)):\n",
    "#         day1.columns.values[i] = \"1d_\" + day1.columns.values[i]\n",
    "#     day1.rename(columns={'1d_Date':'Date'}, inplace=True)\n",
    "#     day1 = day1.reindex(columns=['Date','1d_Open', '1d_High', '1d_Low', '1d_Close', '1d_Adj Close', '1d_Volume'])\n",
    "#     day1 = day1.resample('5min').ffill()\n",
    "\n",
    "#     # Concatenate dataframes\n",
    "#     main_df = pd.concat([min5, min15, min60, day1], axis=1)\n",
    "#     # Drop duplicate columns\n",
    "#     main_df = main_df.loc[:, ~main_df.columns.duplicated()]\n",
    "#     # pd.set_option('display.max_rows', None)\n",
    "#     main_df = main_df.dropna(subset=['5m_Open','5m_High','5m_Low','5m_Close'])\n",
    "\n",
    "#     # if symbol == \"^NSEI\" or symbol == \"^NSEBANK\":\n",
    "#     #     main_df.to_sql(symbol, conn, if_exists='append', index=True, index_label='Datetime')\n",
    "#     # else:\n",
    "#     #     main_df.to_sql(symbol[:-3], conn, if_exists='append', index=True, index_label='Datetime')\n",
    "\n",
    "#     return main_df\n",
    "\n",
    "def fetch_data(symbol, date):\n",
    "\n",
    "    if symbol == \"^NSEI\" or symbol == \"^NSEBANK\":\n",
    "        symbol = symbol.upper()\n",
    "    else:\n",
    "        symbol = f\"{symbol}.NS\".upper()\n",
    "\n",
    "    date = datetime.strptime(date, '%Y-%m-%d %H:%M:%S')\n",
    "    # temp_end = datetime.strptime(\"2024-01-31\", '%Y-%m-%d')\n",
    "\n",
    "    # Download 5-minute data\n",
    "    min5 = yf.download(symbol, start=date, interval='5m')\n",
    "    min5.index = min5.index.strftime('%Y-%m-%d %H:%M:%S') \n",
    "    min5.index = pd.to_datetime(min5.index)\n",
    "    min5['Date'] = min5.index.date\n",
    "    for i in range(len(min5.columns)):\n",
    "        min5.columns.values[i] = \"5m_\" + min5.columns.values[i]\n",
    "    min5.rename(columns={'5m_Date':'Date'}, inplace=True)\n",
    "    min5 = min5.reindex(columns=['Date','5m_Open', '5m_High', '5m_Low', '5m_Close', '5m_Adj Close', '5m_Volume'])\n",
    "\n",
    "    # Download 15-minute data\n",
    "    min15 = yf.download(symbol, start=date, interval='15m')\n",
    "    min15.index = min15.index.strftime('%Y-%m-%d %H:%M:%S')\n",
    "    min15.index = pd.to_datetime(min15.index)\n",
    "    min15['Date'] = min15.index.date\n",
    "    for i in range(len(min15.columns)):\n",
    "        min15.columns.values[i] = \"15m_\" + min15.columns.values[i]\n",
    "    min15.rename(columns={'15m_Date':'Date'}, inplace=True)\n",
    "    min15 = min15.reindex(columns=['Date','15m_Open', '15m_High', '15m_Low', '15m_Close', '15m_Adj Close', '15m_Volume'])\n",
    "    min15 = min15.resample('5T').ffill()\n",
    "\n",
    "    # Download 60-minute data\n",
    "    min60 = yf.download(symbol, start=date, interval='60m')\n",
    "    min60.index = min60.index.strftime('%Y-%m-%d %H:%M:%S')\n",
    "    min60.index = pd.to_datetime(min60.index)\n",
    "    min60['Date'] = min60.index.date\n",
    "    for i in range(len(min60.columns)):\n",
    "        min60.columns.values[i] = \"60m_\" + min60.columns.values[i]\n",
    "    min60.rename(columns={'60m_Date':'Date'}, inplace=True)\n",
    "    min60 = min60.reindex(columns=['Date','60m_Open', '60m_High', '60m_Low', '60m_Close', '60m_Adj Close', '60m_Volume'])\n",
    "    min60 = min60.resample('5T').ffill()\n",
    "\n",
    "    # Download 60-minute data\n",
    "    day1 = yf.download(symbol, start=date, interval='1d')\n",
    "    day1.index = day1.index.strftime('%Y-%m-%d %H:%M:%S')\n",
    "    day1.index = pd.to_datetime(day1.index)\n",
    "    day1['Date'] = day1.index.date\n",
    "    for i in range(len(day1.columns)):\n",
    "        day1.columns.values[i] = \"1d_\" + day1.columns.values[i]\n",
    "    day1.rename(columns={'1d_Date':'Date'}, inplace=True)\n",
    "    day1 = day1.reindex(columns=['Date','1d_Open', '1d_High', '1d_Low', '1d_Close', '1d_Adj Close', '1d_Volume'])\n",
    "\n",
    "    # Extend the index to the end of the day\n",
    "    last_timestamp = day1.index[-1]\n",
    "    end_of_day = last_timestamp.replace(hour=23, minute=59, second=59)\n",
    "    new_index = pd.date_range(start=day1.index[0], end=end_of_day, freq='T')\n",
    "    day1 = day1.reindex(new_index)\n",
    "\n",
    "    day1 = day1.resample('5T').ffill()\n",
    "    day1.fillna(method='ffill', inplace=True)\n",
    "\n",
    "\n",
    "    # Concatenate dataframes\n",
    "    main_df = pd.concat([min5, min15, min60, day1], axis=1)\n",
    "    # Drop duplicate columns\n",
    "    main_df = main_df.loc[:, ~main_df.columns.duplicated()]\n",
    "    # pd.set_option('display.max_rows', None)\n",
    "    main_df = main_df.dropna(subset=['5m_Open','5m_High','5m_Low','5m_Close'])\n",
    "    \n",
    "    return main_df"
   ]
  },
  {
   "cell_type": "code",
   "execution_count": 7,
   "metadata": {},
   "outputs": [
    {
     "data": {
      "application/vnd.plotly.v1+json": {
       "config": {
        "plotlyServerURL": "https://plot.ly"
       },
       "data": [
        {
         "mode": "lines",
         "name": "MACD (5m)",
         "type": "scatter",
         "x": [
          "2024-05-24T11:00:00",
          "2024-05-24T11:05:00",
          "2024-05-24T11:10:00",
          "2024-05-24T11:15:00",
          "2024-05-24T11:20:00",
          "2024-05-24T11:25:00",
          "2024-05-24T11:30:00",
          "2024-05-24T11:35:00",
          "2024-05-24T11:40:00",
          "2024-05-24T11:45:00",
          "2024-05-24T11:50:00",
          "2024-05-24T11:55:00",
          "2024-05-24T12:00:00",
          "2024-05-24T12:05:00",
          "2024-05-24T12:10:00",
          "2024-05-24T12:15:00",
          "2024-05-24T12:20:00",
          "2024-05-24T12:25:00",
          "2024-05-24T12:30:00",
          "2024-05-24T12:35:00",
          "2024-05-24T12:40:00",
          "2024-05-24T12:45:00",
          "2024-05-24T12:50:00",
          "2024-05-24T12:55:00",
          "2024-05-24T13:00:00"
         ],
         "xaxis": "x",
         "y": [
          6.75355730560841,
          8.569043981508003,
          6.597690731221519,
          8.931730552998488,
          8.591308414979721,
          8.752365494197875,
          7.809835262967681,
          6.720524596901669,
          6.601419794540561,
          5.885600221648929,
          5.866547865342,
          4.503055239147216,
          2.882287288644875,
          4.257079271468683,
          5.249591509083984,
          4.102950857472024,
          2.4851701004372444,
          2.5733566498820437,
          3.257624379511981,
          4.639341911839438,
          5.251350950813503,
          5.181020336087386,
          5.524719833527342,
          8.557014636528038,
          10.83735208325379
         ],
         "yaxis": "y"
        },
        {
         "mode": "lines",
         "name": "Signal Line (5m)",
         "type": "scatter",
         "x": [
          "2024-05-24T11:00:00",
          "2024-05-24T11:05:00",
          "2024-05-24T11:10:00",
          "2024-05-24T11:15:00",
          "2024-05-24T11:20:00",
          "2024-05-24T11:25:00",
          "2024-05-24T11:30:00",
          "2024-05-24T11:35:00",
          "2024-05-24T11:40:00",
          "2024-05-24T11:45:00",
          "2024-05-24T11:50:00",
          "2024-05-24T11:55:00",
          "2024-05-24T12:00:00",
          "2024-05-24T12:05:00",
          "2024-05-24T12:10:00",
          "2024-05-24T12:15:00",
          "2024-05-24T12:20:00",
          "2024-05-24T12:25:00",
          "2024-05-24T12:30:00",
          "2024-05-24T12:35:00",
          "2024-05-24T12:40:00",
          "2024-05-24T12:45:00",
          "2024-05-24T12:50:00",
          "2024-05-24T12:55:00",
          "2024-05-24T13:00:00"
         ],
         "xaxis": "x",
         "y": [
          -0.9866201009108417,
          0.9245127155729272,
          2.0591483187026456,
          3.433664765561814,
          4.465193495445396,
          5.322627895195892,
          5.82006936875025,
          6.0001604143805345,
          6.12041229041254,
          6.073449876659818,
          6.032069474396254,
          5.726266627346447,
          5.157470759606133,
          4.977392461978643,
          5.031832271399711,
          4.846055988614173,
          4.373878810978788,
          4.0137743787594395,
          3.862544378909948,
          4.017903885495846,
          4.264593298559378,
          4.44787870606498,
          4.6632469315574525,
          5.44200047255157,
          6.521070794692014
         ],
         "yaxis": "y"
        },
        {
         "mode": "lines",
         "name": "MACD (15m)",
         "type": "scatter",
         "x": [
          "2024-05-24T11:00:00",
          "2024-05-24T11:05:00",
          "2024-05-24T11:10:00",
          "2024-05-24T11:15:00",
          "2024-05-24T11:20:00",
          "2024-05-24T11:25:00",
          "2024-05-24T11:30:00",
          "2024-05-24T11:35:00",
          "2024-05-24T11:40:00",
          "2024-05-24T11:45:00",
          "2024-05-24T11:50:00",
          "2024-05-24T11:55:00",
          "2024-05-24T12:00:00",
          "2024-05-24T12:05:00",
          "2024-05-24T12:10:00",
          "2024-05-24T12:15:00",
          "2024-05-24T12:20:00",
          "2024-05-24T12:25:00",
          "2024-05-24T12:30:00",
          "2024-05-24T12:35:00",
          "2024-05-24T12:40:00",
          "2024-05-24T12:45:00",
          "2024-05-24T12:50:00",
          "2024-05-24T12:55:00",
          "2024-05-24T13:00:00"
         ],
         "xaxis": "x2",
         "y": [
          5.32784927188186,
          4.793626708400552,
          4.290341901767533,
          6.651222551459796,
          8.08007720977912,
          8.829003912353073,
          8.887394610894262,
          8.67350838672428,
          8.279029021963652,
          6.783592342639167,
          5.564333124173572,
          4.569288713682909,
          5.939233940385748,
          6.708932554683997,
          7.045042102923617,
          5.951239233058004,
          5.031167572771665,
          4.256513646498206,
          5.103707707152353,
          5.538820557107101,
          5.678931638300128,
          8.76721690431441,
          10.634406318036781,
          11.610924592641823,
          12.394332135430886
         ],
         "yaxis": "y2"
        },
        {
         "mode": "lines",
         "name": "Signal Line (15m)",
         "type": "scatter",
         "x": [
          "2024-05-24T11:00:00",
          "2024-05-24T11:05:00",
          "2024-05-24T11:10:00",
          "2024-05-24T11:15:00",
          "2024-05-24T11:20:00",
          "2024-05-24T11:25:00",
          "2024-05-24T11:30:00",
          "2024-05-24T11:35:00",
          "2024-05-24T11:40:00",
          "2024-05-24T11:45:00",
          "2024-05-24T11:50:00",
          "2024-05-24T11:55:00",
          "2024-05-24T12:00:00",
          "2024-05-24T12:05:00",
          "2024-05-24T12:10:00",
          "2024-05-24T12:15:00",
          "2024-05-24T12:20:00",
          "2024-05-24T12:25:00",
          "2024-05-24T12:30:00",
          "2024-05-24T12:35:00",
          "2024-05-24T12:40:00",
          "2024-05-24T12:45:00",
          "2024-05-24T12:50:00",
          "2024-05-24T12:55:00",
          "2024-05-24T13:00:00"
         ],
         "xaxis": "x2",
         "y": [
          0.47401888568489603,
          1.3379404502280274,
          1.9284207405359288,
          2.8729811027207024,
          3.914400324132386,
          4.897321041776523,
          5.695335755600071,
          6.290970281824913,
          6.688582029852661,
          6.707584092409962,
          6.478933898762685,
          6.09700486174673,
          6.0654506774745345,
          6.194147052916428,
          6.364326062917866,
          6.281708696945894,
          6.031600472111049,
          5.676583106988481,
          5.562008027021255,
          5.557370533038425,
          5.581682754090766,
          6.218789584135495,
          7.101912930915753,
          8.003715263260968,
          8.881838637694953
         ],
         "yaxis": "y2"
        },
        {
         "mode": "lines",
         "name": "MACD (60m)",
         "type": "scatter",
         "x": [
          "2024-05-24T11:00:00",
          "2024-05-24T11:05:00",
          "2024-05-24T11:10:00",
          "2024-05-24T11:15:00",
          "2024-05-24T11:20:00",
          "2024-05-24T11:25:00",
          "2024-05-24T11:30:00",
          "2024-05-24T11:35:00",
          "2024-05-24T11:40:00",
          "2024-05-24T11:45:00",
          "2024-05-24T11:50:00",
          "2024-05-24T11:55:00",
          "2024-05-24T12:00:00",
          "2024-05-24T12:05:00",
          "2024-05-24T12:10:00",
          "2024-05-24T12:15:00",
          "2024-05-24T12:20:00",
          "2024-05-24T12:25:00",
          "2024-05-24T12:30:00",
          "2024-05-24T12:35:00",
          "2024-05-24T12:40:00",
          "2024-05-24T12:45:00",
          "2024-05-24T12:50:00",
          "2024-05-24T12:55:00",
          "2024-05-24T13:00:00"
         ],
         "xaxis": "x3",
         "y": [
          9.011773298450862,
          8.33661291066528,
          7.6354568473034305,
          10.75659749393526,
          12.589476866094628,
          13.486609096536995,
          13.716453794651898,
          13.482162907792372,
          12.936301645153435,
          12.192388160910923,
          11.333922109974083,
          10.421433329043793,
          9.497971498436527,
          8.593369914640789,
          7.727546831039945,
          10.658811449975474,
          12.36428400438308,
          13.180485641561972,
          13.363581460158457,
          13.107316265479312,
          12.557096810109215,
          11.821029274709872,
          10.978553556873521,
          10.087182963019586,
          9.18775218542578
         ],
         "yaxis": "y3"
        },
        {
         "mode": "lines",
         "name": "Signal Line (60m)",
         "type": "scatter",
         "x": [
          "2024-05-24T11:00:00",
          "2024-05-24T11:05:00",
          "2024-05-24T11:10:00",
          "2024-05-24T11:15:00",
          "2024-05-24T11:20:00",
          "2024-05-24T11:25:00",
          "2024-05-24T11:30:00",
          "2024-05-24T11:35:00",
          "2024-05-24T11:40:00",
          "2024-05-24T11:45:00",
          "2024-05-24T11:50:00",
          "2024-05-24T11:55:00",
          "2024-05-24T12:00:00",
          "2024-05-24T12:05:00",
          "2024-05-24T12:10:00",
          "2024-05-24T12:15:00",
          "2024-05-24T12:20:00",
          "2024-05-24T12:25:00",
          "2024-05-24T12:30:00",
          "2024-05-24T12:35:00",
          "2024-05-24T12:40:00",
          "2024-05-24T12:45:00",
          "2024-05-24T12:50:00",
          "2024-05-24T12:55:00",
          "2024-05-24T13:00:00"
         ],
         "xaxis": "x3",
         "y": [
          7.215823827704167,
          7.43998164429639,
          7.479076684897799,
          8.134580846705292,
          9.02556005058316,
          9.917769859773927,
          10.67750664674952,
          11.238437898958091,
          11.57801064819716,
          11.700886150739914,
          11.627493342586748,
          11.386281339878156,
          11.00861937158983,
          10.525569480200023,
          9.965964950368008,
          10.1045342502895,
          10.556484201108217,
          11.08128448919897,
          11.537743883390867,
          11.851658359808557,
          11.992746049868689,
          11.958402694836927,
          11.762432867244247,
          11.427382886399316,
          10.97945674620461
         ],
         "yaxis": "y3"
        },
        {
         "mode": "lines",
         "name": "MACD (1d)",
         "type": "scatter",
         "x": [
          "2024-05-24T11:00:00",
          "2024-05-24T11:05:00",
          "2024-05-24T11:10:00",
          "2024-05-24T11:15:00",
          "2024-05-24T11:20:00",
          "2024-05-24T11:25:00",
          "2024-05-24T11:30:00",
          "2024-05-24T11:35:00",
          "2024-05-24T11:40:00",
          "2024-05-24T11:45:00",
          "2024-05-24T11:50:00",
          "2024-05-24T11:55:00",
          "2024-05-24T12:00:00",
          "2024-05-24T12:05:00",
          "2024-05-24T12:10:00",
          "2024-05-24T12:15:00",
          "2024-05-24T12:20:00",
          "2024-05-24T12:25:00",
          "2024-05-24T12:30:00",
          "2024-05-24T12:35:00",
          "2024-05-24T12:40:00",
          "2024-05-24T12:45:00",
          "2024-05-24T12:50:00",
          "2024-05-24T12:55:00",
          "2024-05-24T13:00:00"
         ],
         "xaxis": "x4",
         "y": [
          3.910311412822921,
          3.4144144489837345,
          2.9768161180909374,
          2.591696802104707,
          2.2535665053728735,
          1.9573181160303648,
          1.6982529885863187,
          1.4720868158183293,
          1.2749418168896227,
          1.1033297657122603,
          0.9541292230278486,
          0.8245594445324969,
          0.712152755142597,
          0.6147266608459176,
          0.5303565772992442,
          0.45734976066160016,
          0.394220807516831,
          0.3396689308647183,
          0.29255710313736927,
          0.25189307545952033,
          0.21681222574989079,
          0.1865621509277844,
          0.1604888953079353,
          0.1380246944463579,
          0.11867710829392308
         ],
         "yaxis": "y4"
        },
        {
         "mode": "lines",
         "name": "Signal Line (1d)",
         "type": "scatter",
         "x": [
          "2024-05-24T11:00:00",
          "2024-05-24T11:05:00",
          "2024-05-24T11:10:00",
          "2024-05-24T11:15:00",
          "2024-05-24T11:20:00",
          "2024-05-24T11:25:00",
          "2024-05-24T11:30:00",
          "2024-05-24T11:35:00",
          "2024-05-24T11:40:00",
          "2024-05-24T11:45:00",
          "2024-05-24T11:50:00",
          "2024-05-24T11:55:00",
          "2024-05-24T12:00:00",
          "2024-05-24T12:05:00",
          "2024-05-24T12:10:00",
          "2024-05-24T12:15:00",
          "2024-05-24T12:20:00",
          "2024-05-24T12:25:00",
          "2024-05-24T12:30:00",
          "2024-05-24T12:35:00",
          "2024-05-24T12:40:00",
          "2024-05-24T12:45:00",
          "2024-05-24T12:50:00",
          "2024-05-24T12:55:00",
          "2024-05-24T13:00:00"
         ],
         "xaxis": "x4",
         "y": [
          6.90156902455623,
          6.204138109441732,
          5.558673711171574,
          4.965278329358201,
          4.422935964561136,
          3.9298123948549817,
          3.4835005136012493,
          3.081217774044666,
          2.7199625826136575,
          2.396636019233378,
          2.108134659992272,
          1.8514196169003172,
          1.623566244548773,
          1.421798327808202,
          1.2435099777064107,
          1.0862779342974487,
          0.9478665089413252,
          0.8262269933260038,
          0.7194930152882769,
          0.6259730273225257,
          0.5441408670079987,
          0.4726251237919558,
          0.41019787809515174,
          0.355763241365393,
          0.308346014751099
         ],
         "yaxis": "y4"
        }
       ],
       "layout": {
        "annotations": [
         {
          "font": {
           "size": 14
          },
          "showarrow": false,
          "text": "5min",
          "x": 0,
          "xref": "paper",
          "y": 1.03,
          "yref": "paper"
         },
         {
          "font": {
           "size": 14
          },
          "showarrow": false,
          "text": "15min",
          "x": 0,
          "xref": "paper",
          "y": 0.65,
          "yref": "paper"
         },
         {
          "font": {
           "size": 14
          },
          "showarrow": false,
          "text": "60min",
          "x": 0,
          "xref": "paper",
          "y": 0.27,
          "yref": "paper"
         },
         {
          "font": {
           "size": 14
          },
          "showarrow": false,
          "text": "1day",
          "x": 0,
          "xref": "paper",
          "y": 0,
          "yref": "paper"
         }
        ],
        "height": 1333,
        "template": {
         "data": {
          "bar": [
           {
            "error_x": {
             "color": "#2a3f5f"
            },
            "error_y": {
             "color": "#2a3f5f"
            },
            "marker": {
             "line": {
              "color": "#E5ECF6",
              "width": 0.5
             },
             "pattern": {
              "fillmode": "overlay",
              "size": 10,
              "solidity": 0.2
             }
            },
            "type": "bar"
           }
          ],
          "barpolar": [
           {
            "marker": {
             "line": {
              "color": "#E5ECF6",
              "width": 0.5
             },
             "pattern": {
              "fillmode": "overlay",
              "size": 10,
              "solidity": 0.2
             }
            },
            "type": "barpolar"
           }
          ],
          "carpet": [
           {
            "aaxis": {
             "endlinecolor": "#2a3f5f",
             "gridcolor": "white",
             "linecolor": "white",
             "minorgridcolor": "white",
             "startlinecolor": "#2a3f5f"
            },
            "baxis": {
             "endlinecolor": "#2a3f5f",
             "gridcolor": "white",
             "linecolor": "white",
             "minorgridcolor": "white",
             "startlinecolor": "#2a3f5f"
            },
            "type": "carpet"
           }
          ],
          "choropleth": [
           {
            "colorbar": {
             "outlinewidth": 0,
             "ticks": ""
            },
            "type": "choropleth"
           }
          ],
          "contour": [
           {
            "colorbar": {
             "outlinewidth": 0,
             "ticks": ""
            },
            "colorscale": [
             [
              0,
              "#0d0887"
             ],
             [
              0.1111111111111111,
              "#46039f"
             ],
             [
              0.2222222222222222,
              "#7201a8"
             ],
             [
              0.3333333333333333,
              "#9c179e"
             ],
             [
              0.4444444444444444,
              "#bd3786"
             ],
             [
              0.5555555555555556,
              "#d8576b"
             ],
             [
              0.6666666666666666,
              "#ed7953"
             ],
             [
              0.7777777777777778,
              "#fb9f3a"
             ],
             [
              0.8888888888888888,
              "#fdca26"
             ],
             [
              1,
              "#f0f921"
             ]
            ],
            "type": "contour"
           }
          ],
          "contourcarpet": [
           {
            "colorbar": {
             "outlinewidth": 0,
             "ticks": ""
            },
            "type": "contourcarpet"
           }
          ],
          "heatmap": [
           {
            "colorbar": {
             "outlinewidth": 0,
             "ticks": ""
            },
            "colorscale": [
             [
              0,
              "#0d0887"
             ],
             [
              0.1111111111111111,
              "#46039f"
             ],
             [
              0.2222222222222222,
              "#7201a8"
             ],
             [
              0.3333333333333333,
              "#9c179e"
             ],
             [
              0.4444444444444444,
              "#bd3786"
             ],
             [
              0.5555555555555556,
              "#d8576b"
             ],
             [
              0.6666666666666666,
              "#ed7953"
             ],
             [
              0.7777777777777778,
              "#fb9f3a"
             ],
             [
              0.8888888888888888,
              "#fdca26"
             ],
             [
              1,
              "#f0f921"
             ]
            ],
            "type": "heatmap"
           }
          ],
          "heatmapgl": [
           {
            "colorbar": {
             "outlinewidth": 0,
             "ticks": ""
            },
            "colorscale": [
             [
              0,
              "#0d0887"
             ],
             [
              0.1111111111111111,
              "#46039f"
             ],
             [
              0.2222222222222222,
              "#7201a8"
             ],
             [
              0.3333333333333333,
              "#9c179e"
             ],
             [
              0.4444444444444444,
              "#bd3786"
             ],
             [
              0.5555555555555556,
              "#d8576b"
             ],
             [
              0.6666666666666666,
              "#ed7953"
             ],
             [
              0.7777777777777778,
              "#fb9f3a"
             ],
             [
              0.8888888888888888,
              "#fdca26"
             ],
             [
              1,
              "#f0f921"
             ]
            ],
            "type": "heatmapgl"
           }
          ],
          "histogram": [
           {
            "marker": {
             "pattern": {
              "fillmode": "overlay",
              "size": 10,
              "solidity": 0.2
             }
            },
            "type": "histogram"
           }
          ],
          "histogram2d": [
           {
            "colorbar": {
             "outlinewidth": 0,
             "ticks": ""
            },
            "colorscale": [
             [
              0,
              "#0d0887"
             ],
             [
              0.1111111111111111,
              "#46039f"
             ],
             [
              0.2222222222222222,
              "#7201a8"
             ],
             [
              0.3333333333333333,
              "#9c179e"
             ],
             [
              0.4444444444444444,
              "#bd3786"
             ],
             [
              0.5555555555555556,
              "#d8576b"
             ],
             [
              0.6666666666666666,
              "#ed7953"
             ],
             [
              0.7777777777777778,
              "#fb9f3a"
             ],
             [
              0.8888888888888888,
              "#fdca26"
             ],
             [
              1,
              "#f0f921"
             ]
            ],
            "type": "histogram2d"
           }
          ],
          "histogram2dcontour": [
           {
            "colorbar": {
             "outlinewidth": 0,
             "ticks": ""
            },
            "colorscale": [
             [
              0,
              "#0d0887"
             ],
             [
              0.1111111111111111,
              "#46039f"
             ],
             [
              0.2222222222222222,
              "#7201a8"
             ],
             [
              0.3333333333333333,
              "#9c179e"
             ],
             [
              0.4444444444444444,
              "#bd3786"
             ],
             [
              0.5555555555555556,
              "#d8576b"
             ],
             [
              0.6666666666666666,
              "#ed7953"
             ],
             [
              0.7777777777777778,
              "#fb9f3a"
             ],
             [
              0.8888888888888888,
              "#fdca26"
             ],
             [
              1,
              "#f0f921"
             ]
            ],
            "type": "histogram2dcontour"
           }
          ],
          "mesh3d": [
           {
            "colorbar": {
             "outlinewidth": 0,
             "ticks": ""
            },
            "type": "mesh3d"
           }
          ],
          "parcoords": [
           {
            "line": {
             "colorbar": {
              "outlinewidth": 0,
              "ticks": ""
             }
            },
            "type": "parcoords"
           }
          ],
          "pie": [
           {
            "automargin": true,
            "type": "pie"
           }
          ],
          "scatter": [
           {
            "fillpattern": {
             "fillmode": "overlay",
             "size": 10,
             "solidity": 0.2
            },
            "type": "scatter"
           }
          ],
          "scatter3d": [
           {
            "line": {
             "colorbar": {
              "outlinewidth": 0,
              "ticks": ""
             }
            },
            "marker": {
             "colorbar": {
              "outlinewidth": 0,
              "ticks": ""
             }
            },
            "type": "scatter3d"
           }
          ],
          "scattercarpet": [
           {
            "marker": {
             "colorbar": {
              "outlinewidth": 0,
              "ticks": ""
             }
            },
            "type": "scattercarpet"
           }
          ],
          "scattergeo": [
           {
            "marker": {
             "colorbar": {
              "outlinewidth": 0,
              "ticks": ""
             }
            },
            "type": "scattergeo"
           }
          ],
          "scattergl": [
           {
            "marker": {
             "colorbar": {
              "outlinewidth": 0,
              "ticks": ""
             }
            },
            "type": "scattergl"
           }
          ],
          "scattermapbox": [
           {
            "marker": {
             "colorbar": {
              "outlinewidth": 0,
              "ticks": ""
             }
            },
            "type": "scattermapbox"
           }
          ],
          "scatterpolar": [
           {
            "marker": {
             "colorbar": {
              "outlinewidth": 0,
              "ticks": ""
             }
            },
            "type": "scatterpolar"
           }
          ],
          "scatterpolargl": [
           {
            "marker": {
             "colorbar": {
              "outlinewidth": 0,
              "ticks": ""
             }
            },
            "type": "scatterpolargl"
           }
          ],
          "scatterternary": [
           {
            "marker": {
             "colorbar": {
              "outlinewidth": 0,
              "ticks": ""
             }
            },
            "type": "scatterternary"
           }
          ],
          "surface": [
           {
            "colorbar": {
             "outlinewidth": 0,
             "ticks": ""
            },
            "colorscale": [
             [
              0,
              "#0d0887"
             ],
             [
              0.1111111111111111,
              "#46039f"
             ],
             [
              0.2222222222222222,
              "#7201a8"
             ],
             [
              0.3333333333333333,
              "#9c179e"
             ],
             [
              0.4444444444444444,
              "#bd3786"
             ],
             [
              0.5555555555555556,
              "#d8576b"
             ],
             [
              0.6666666666666666,
              "#ed7953"
             ],
             [
              0.7777777777777778,
              "#fb9f3a"
             ],
             [
              0.8888888888888888,
              "#fdca26"
             ],
             [
              1,
              "#f0f921"
             ]
            ],
            "type": "surface"
           }
          ],
          "table": [
           {
            "cells": {
             "fill": {
              "color": "#EBF0F8"
             },
             "line": {
              "color": "white"
             }
            },
            "header": {
             "fill": {
              "color": "#C8D4E3"
             },
             "line": {
              "color": "white"
             }
            },
            "type": "table"
           }
          ]
         },
         "layout": {
          "annotationdefaults": {
           "arrowcolor": "#2a3f5f",
           "arrowhead": 0,
           "arrowwidth": 1
          },
          "autotypenumbers": "strict",
          "coloraxis": {
           "colorbar": {
            "outlinewidth": 0,
            "ticks": ""
           }
          },
          "colorscale": {
           "diverging": [
            [
             0,
             "#8e0152"
            ],
            [
             0.1,
             "#c51b7d"
            ],
            [
             0.2,
             "#de77ae"
            ],
            [
             0.3,
             "#f1b6da"
            ],
            [
             0.4,
             "#fde0ef"
            ],
            [
             0.5,
             "#f7f7f7"
            ],
            [
             0.6,
             "#e6f5d0"
            ],
            [
             0.7,
             "#b8e186"
            ],
            [
             0.8,
             "#7fbc41"
            ],
            [
             0.9,
             "#4d9221"
            ],
            [
             1,
             "#276419"
            ]
           ],
           "sequential": [
            [
             0,
             "#0d0887"
            ],
            [
             0.1111111111111111,
             "#46039f"
            ],
            [
             0.2222222222222222,
             "#7201a8"
            ],
            [
             0.3333333333333333,
             "#9c179e"
            ],
            [
             0.4444444444444444,
             "#bd3786"
            ],
            [
             0.5555555555555556,
             "#d8576b"
            ],
            [
             0.6666666666666666,
             "#ed7953"
            ],
            [
             0.7777777777777778,
             "#fb9f3a"
            ],
            [
             0.8888888888888888,
             "#fdca26"
            ],
            [
             1,
             "#f0f921"
            ]
           ],
           "sequentialminus": [
            [
             0,
             "#0d0887"
            ],
            [
             0.1111111111111111,
             "#46039f"
            ],
            [
             0.2222222222222222,
             "#7201a8"
            ],
            [
             0.3333333333333333,
             "#9c179e"
            ],
            [
             0.4444444444444444,
             "#bd3786"
            ],
            [
             0.5555555555555556,
             "#d8576b"
            ],
            [
             0.6666666666666666,
             "#ed7953"
            ],
            [
             0.7777777777777778,
             "#fb9f3a"
            ],
            [
             0.8888888888888888,
             "#fdca26"
            ],
            [
             1,
             "#f0f921"
            ]
           ]
          },
          "colorway": [
           "#636efa",
           "#EF553B",
           "#00cc96",
           "#ab63fa",
           "#FFA15A",
           "#19d3f3",
           "#FF6692",
           "#B6E880",
           "#FF97FF",
           "#FECB52"
          ],
          "font": {
           "color": "#2a3f5f"
          },
          "geo": {
           "bgcolor": "white",
           "lakecolor": "white",
           "landcolor": "#E5ECF6",
           "showlakes": true,
           "showland": true,
           "subunitcolor": "white"
          },
          "hoverlabel": {
           "align": "left"
          },
          "hovermode": "closest",
          "mapbox": {
           "style": "light"
          },
          "paper_bgcolor": "white",
          "plot_bgcolor": "#E5ECF6",
          "polar": {
           "angularaxis": {
            "gridcolor": "white",
            "linecolor": "white",
            "ticks": ""
           },
           "bgcolor": "#E5ECF6",
           "radialaxis": {
            "gridcolor": "white",
            "linecolor": "white",
            "ticks": ""
           }
          },
          "scene": {
           "xaxis": {
            "backgroundcolor": "#E5ECF6",
            "gridcolor": "white",
            "gridwidth": 2,
            "linecolor": "white",
            "showbackground": true,
            "ticks": "",
            "zerolinecolor": "white"
           },
           "yaxis": {
            "backgroundcolor": "#E5ECF6",
            "gridcolor": "white",
            "gridwidth": 2,
            "linecolor": "white",
            "showbackground": true,
            "ticks": "",
            "zerolinecolor": "white"
           },
           "zaxis": {
            "backgroundcolor": "#E5ECF6",
            "gridcolor": "white",
            "gridwidth": 2,
            "linecolor": "white",
            "showbackground": true,
            "ticks": "",
            "zerolinecolor": "white"
           }
          },
          "shapedefaults": {
           "line": {
            "color": "#2a3f5f"
           }
          },
          "ternary": {
           "aaxis": {
            "gridcolor": "white",
            "linecolor": "white",
            "ticks": ""
           },
           "baxis": {
            "gridcolor": "white",
            "linecolor": "white",
            "ticks": ""
           },
           "bgcolor": "#E5ECF6",
           "caxis": {
            "gridcolor": "white",
            "linecolor": "white",
            "ticks": ""
           }
          },
          "title": {
           "x": 0.05
          },
          "xaxis": {
           "automargin": true,
           "gridcolor": "white",
           "linecolor": "white",
           "ticks": "",
           "title": {
            "standoff": 15
           },
           "zerolinecolor": "white",
           "zerolinewidth": 2
          },
          "yaxis": {
           "automargin": true,
           "gridcolor": "white",
           "linecolor": "white",
           "ticks": "",
           "title": {
            "standoff": 15
           },
           "zerolinecolor": "white",
           "zerolinewidth": 2
          }
         }
        },
        "title": {
         "text": "MACD"
        },
        "width": 1200,
        "xaxis": {
         "anchor": "y",
         "domain": [
          0,
          1
         ],
         "matches": "x4",
         "showticklabels": false
        },
        "xaxis2": {
         "anchor": "y2",
         "domain": [
          0,
          1
         ],
         "matches": "x4",
         "showticklabels": false
        },
        "xaxis3": {
         "anchor": "y3",
         "domain": [
          0,
          1
         ],
         "matches": "x4",
         "showticklabels": false
        },
        "xaxis4": {
         "anchor": "y4",
         "domain": [
          0,
          1
         ]
        },
        "yaxis": {
         "anchor": "x",
         "domain": [
          0.825,
          1
         ],
         "title": {
          "text": "Value"
         }
        },
        "yaxis2": {
         "anchor": "x2",
         "domain": [
          0.55,
          0.7250000000000001
         ]
        },
        "yaxis3": {
         "anchor": "x3",
         "domain": [
          0.275,
          0.45
         ]
        },
        "yaxis4": {
         "anchor": "x4",
         "domain": [
          0,
          0.175
         ]
        }
       }
      }
     },
     "metadata": {},
     "output_type": "display_data"
    },
    {
     "name": "stdout",
     "output_type": "stream",
     "text": [
      "                Datetime        Date       5m_Open       5m_High  \\\n",
      "2141 2024-05-24 12:40:00  2024-05-24  48864.050781  48867.351562   \n",
      "2142 2024-05-24 12:45:00  2024-05-24  48858.398438  48875.199219   \n",
      "2143 2024-05-24 12:50:00  2024-05-24  48851.898438  48877.000000   \n",
      "2144 2024-05-24 12:55:00  2024-05-24  48861.398438  48932.101562   \n",
      "2145 2024-05-24 13:00:00  2024-05-24  48916.851562  48923.148438   \n",
      "\n",
      "            5m_Low      5m_Close  5m_Adj Close  5m_Volume      15m_Open  \\\n",
      "2141  48842.351562  48858.398438  48858.398438        0.0  48830.949219   \n",
      "2142  48843.898438  48852.449219  48852.449219        0.0  48858.398438   \n",
      "2143  48840.699219  48861.898438  48861.898438        0.0  48858.398438   \n",
      "2144  48857.199219  48913.601562  48913.601562        0.0  48858.398438   \n",
      "2145  48910.500000  48921.398438  48921.398438        0.0  48916.851562   \n",
      "\n",
      "          15m_High       15m_Low     15m_Close  15m_Adj Close  15m_Volume  \\\n",
      "2141  48867.351562  48823.148438  48858.398438   48858.398438         0.0   \n",
      "2142  48932.101562  48840.699219  48913.601562   48913.601562         0.0   \n",
      "2143  48932.101562  48840.699219  48913.601562   48913.601562         0.0   \n",
      "2144  48932.101562  48840.699219  48913.601562   48913.601562         0.0   \n",
      "2145  48923.148438  48910.500000  48921.398438   48921.398438         0.0   \n",
      "\n",
      "          60m_Open      60m_High   60m_Low     60m_Close  60m_Adj Close  \\\n",
      "2141  48853.398438  48932.101562  48801.25  48917.351562   48917.351562   \n",
      "2142  48853.398438  48932.101562  48801.25  48917.351562   48917.351562   \n",
      "2143  48853.398438  48932.101562  48801.25  48917.351562   48917.351562   \n",
      "2144  48853.398438  48932.101562  48801.25  48917.351562   48917.351562   \n",
      "2145  48853.398438  48932.101562  48801.25  48917.351562   48917.351562   \n",
      "\n",
      "      60m_Volume  1d_Open       1d_High        1d_Low      1d_Close  \\\n",
      "2141         0.0  48668.0  48976.699219  48644.800781  48917.351562   \n",
      "2142         0.0  48668.0  48976.699219  48644.800781  48917.351562   \n",
      "2143         0.0  48668.0  48976.699219  48644.800781  48917.351562   \n",
      "2144         0.0  48668.0  48976.699219  48644.800781  48917.351562   \n",
      "2145         0.0  48668.0  48976.699219  48644.800781  48917.351562   \n",
      "\n",
      "      1d_Adj Close  1d_Volume  EMA_short_5m  EMA_large_5m    MACD_5m  \\\n",
      "2141  48917.351562        0.0  48840.551627  48835.300276   5.251351   \n",
      "2142  48917.351562        0.0  48842.931145  48837.750125   5.181020   \n",
      "2143  48917.351562        0.0  48846.724604  48841.199884   5.524720   \n",
      "2144  48917.351562        0.0  48860.099996  48851.542981   8.557015   \n",
      "2145  48917.351562        0.0  48872.359684  48861.522332  10.837352   \n",
      "\n",
      "      Signal_Line_5m  msg_signal_5m  EMA_short_15m  EMA_large_15m   MACD_15m  \\\n",
      "2141        4.264593              1   48845.359241   48839.680310   5.678932   \n",
      "2142        4.447879              1   48859.007705   48850.240489   8.767217   \n",
      "2143        4.663247              1   48869.926477   48859.292071  10.634406   \n",
      "2144        5.442000              1   48878.661494   48867.050569  11.610925   \n",
      "2145        6.521071              1   48887.208883   48874.814551  12.394332   \n",
      "\n",
      "      Signal_Line_15m  msg_signal_15m  EMA_short_60m  EMA_large_60m  \\\n",
      "2141         5.581683               1   48898.840002   48886.282906   \n",
      "2142         6.218790               1   48902.542314   48890.721285   \n",
      "2143         7.101913               1   48905.504164   48894.525610   \n",
      "2144         8.003715               1   48907.873644   48897.786461   \n",
      "2145         8.881839               1   48909.769227   48900.581475   \n",
      "\n",
      "       MACD_60m  Signal_Line_60m  msg_signal_60m  EMA_short_1d  EMA_large_1d  \\\n",
      "2141  12.557097        11.992746               1  48917.338908  48917.122096   \n",
      "2142  11.821029        11.958403               0  48917.341439  48917.154877   \n",
      "2143  10.978554        11.762433               0  48917.343464  48917.182975   \n",
      "2144  10.087183        11.427383               0  48917.345084  48917.207059   \n",
      "2145   9.187752        10.979457               0  48917.346379  48917.227702   \n",
      "\n",
      "       MACD_1d  Signal_Line_1d  msg_signal_1d  \n",
      "2141  0.216812        0.544141              0  \n",
      "2142  0.186562        0.472625              0  \n",
      "2143  0.160489        0.410198              0  \n",
      "2144  0.138025        0.355763              0  \n",
      "2145  0.118677        0.308346              0  \n"
     ]
    }
   ],
   "source": [
    "pd.set_option('display.max_columns', None)\n",
    "pd.set_option('display.max_rows', None)\n",
    "\n",
    "# Define an infinite loop to continuously fetch minute-level stock data and plot EMAs\n",
    "while True:\n",
    "    # # Download minute-level data for the stock index \"Nifty 50\" (^NSEI) starting from \"2024-02-05\"\n",
    "    # df = yf.download(\"^NSEI\", start=\"2024-02-25\", interval=\"1m\")\n",
    "\n",
    "    df = fetch_data('^NSEBANK', '2024-04-10 09:15:00')\n",
    "\n",
    "    df.index.rename(\"Datetime\",inplace=True)\n",
    "\n",
    "    # Reset index to make the 'Datetime' column available for plotting\n",
    "    df.reset_index(inplace=True)\n",
    "\n",
    "    df.fillna(method='ffill', inplace=True)\n",
    "\n",
    "    # Call the MACD_plot function to plot Exponential Moving Averages (EMAs) on the downloaded data\n",
    "    # Note: 'fig' is likely a pre-existing figure object used for plotting\n",
    "    plot_ema = MACD_plot(data=df, fig=fig, short_window=9, large_window=13)\n",
    "\n",
    "    print(df.tail(5))\n",
    "    \n",
    "    # Sleep for 1 minute before running the loop again                                                                                                                                                                                                                                                                                                                                                                                                                                                                                                                                                                                                                                                                                                                                                                                                                                                                                                                                                                                                                                                                                                                                                                                                                                                                                                                                                                                                                                                                                                                                                                                                                                                                                                                                                                                                                                                                                                                                                                                                                                                                                                                                                                                                                                                                                                                                                                                                                                                                                                                                                                                                                                                                                                                                                                                                                                                                                                                                                                                                                                                                                                                                                              to avoid overwhelming the system and the API\n",
    "    time.sleep(300)\n"
   ]
  },
  {
   "cell_type": "code",
   "execution_count": null,
   "metadata": {},
   "outputs": [],
   "source": []
  }
 ],
 "metadata": {
  "kernelspec": {
   "display_name": "algo-env",
   "language": "python",
   "name": "python3"
  },
  "language_info": {
   "codemirror_mode": {
    "name": "ipython",
    "version": 3
   },
   "file_extension": ".py",
   "mimetype": "text/x-python",
   "name": "python",
   "nbconvert_exporter": "python",
   "pygments_lexer": "ipython3",
   "version": "3.11.5"
  }
 },
 "nbformat": 4,
 "nbformat_minor": 2
}
